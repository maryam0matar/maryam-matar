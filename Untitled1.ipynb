{
  "nbformat": 4,
  "nbformat_minor": 0,
  "metadata": {
    "colab": {
      "provenance": []
    },
    "kernelspec": {
      "name": "python3",
      "display_name": "Python 3"
    },
    "language_info": {
      "name": "python"
    }
  },
  "cells": [
    {
      "cell_type": "code",
      "execution_count": 1,
      "metadata": {
        "colab": {
          "base_uri": "https://localhost:8080/"
        },
        "id": "4NDZRUK5OFDt",
        "outputId": "59d96df4-c9b5-4f7e-b646-1b42cdd90001"
      },
      "outputs": [
        {
          "output_type": "stream",
          "name": "stdout",
          "text": [
            "Availability before booking: True\n",
            "Seat 09A booked for passenger Maryam Matar.\n",
            "Availability after booking: False\n"
          ]
        }
      ],
      "source": [
        "class BoardingPass:\n",
        "    def __init__(self, seat_number, boarding_time, gate, flight_number, passenger_name, departure_city, destination_city, departure_date, arrival_time, terminal):\n",
        "        self._seat_number = seat_number\n",
        "        self._boarding_time = boarding_time\n",
        "        self._gate = gate\n",
        "        self._flight_number = flight_number\n",
        "        self._passenger_name = passenger_name\n",
        "        self._departure_city = departure_city\n",
        "        self._destination_city = destination_city\n",
        "        self._departure_date = departure_date\n",
        "        self._arrival_time = arrival_time\n",
        "        self._terminal = terminal\n",
        "        self._availability = True  # Assuming all seats are initially available\n",
        "\n",
        "    def seat_number(self):\n",
        "        return self._seat_number\n",
        "\n",
        "    def boarding_time(self):\n",
        "        return self._boarding_time\n",
        "\n",
        "    # Other getter and setter methods for attributes can be added here\n",
        "\n",
        "    def book_seat(self, passenger_name):\n",
        "        \"\"\"\n",
        "        Book the seat for a passenger.\n",
        "\n",
        "        Args:\n",
        "            passenger_name (str): The name of the passenger booking the seat.\n",
        "        \"\"\"\n",
        "        if self._availability:\n",
        "            self._passenger_name = passenger_name\n",
        "            self._availability = False\n",
        "            print(f\"Seat {self._seat_number} booked for passenger {passenger_name}.\")\n",
        "        else:\n",
        "            print(f\"Seat {self._seat_number} is already booked.\")\n",
        "\n",
        "    def availability(self):\n",
        "        return self._availability\n",
        "\n",
        "    def set_availability(self, value):\n",
        "        self._availability = value\n",
        "\n",
        "# Example usage\n",
        "if __name__ == \"__main__\":\n",
        "    # Create a boarding pass instance\n",
        "    boarding_pass = BoardingPass(seat_number=\"09A\", boarding_time=\"11:20\", gate=\"03\", flight_number=\"NA4321\",\n",
        "                                 passenger_name=\"Maryam Matar\", departure_city=\"Chicago ORD\", destination_city=\"New York JFK\",\n",
        "                                 departure_date=\"06 DEC 20\", arrival_time=\"13:30\", terminal=\"2\")\n",
        "\n",
        "    # Check the availability before booking\n",
        "    print(\"Availability before booking:\", boarding_pass.availability())\n",
        "\n",
        "    # Book the seat for a passenger\n",
        "    boarding_pass.book_seat(\"Maryam Matar\")\n",
        "\n",
        "    # Check the availability after booking\n",
        "    print(\"Availability after booking:\", boarding_pass.availability())\n"
      ]
    },
    {
      "cell_type": "code",
      "source": [
        "class Passenger:\n",
        "    def __init__(self, name, electronic_ticket):\n",
        "        self.name = name\n",
        "        self.electronic_ticket = electronic_ticket\n",
        "\n",
        "class Flight:\n",
        "    def __init__(self, flight_number, departure_city, destination_city, departure_date, boarding_time, arrival_time, terminal, gate):\n",
        "        self.flight_number = flight_number\n",
        "        self.departure_city = departure_city\n",
        "        self.destination_city = destination_city\n",
        "        self.departure_date = departure_date\n",
        "        self.boarding_time = boarding_time\n",
        "        self.arrival_time = arrival_time\n",
        "        self.terminal = terminal\n",
        "        self.gate = gate\n",
        "\n",
        "class BoardingPass:\n",
        "    def __init__(self, seat, boarding_time, gate, flight, passenger):\n",
        "        self.seat = seat\n",
        "        self.boarding_time = boarding_time\n",
        "        self.gate = gate\n",
        "        self.flight = flight\n",
        "        self.passenger = passenger\n",
        "\n",
        "class Seat:\n",
        "    def __init__(self, seat_number, availability=True):\n",
        "        self.seat_number = seat_number\n",
        "        self.availability = availability\n",
        "\n",
        "# Create objects\n",
        "passenger = Passenger(name=\"Maryam matar\", electronic_ticket=\"629\")\n",
        "flight = Flight(flight_number=\"NA4321\", departure_city=\"CHICAGO ORD\", destination_city=\"NEW YORK JFK\", departure_date=\"06 DEC 20\",\n",
        "                boarding_time=\"11:20\", arrival_time=\"13:30\", terminal=\"2\", gate=\"03\")\n",
        "seat = Seat(seat_number=\"09A\")\n",
        "boarding_pass = BoardingPass(seat=seat, boarding_time=\"11:40\", gate=\"03\", flight=flight, passenger=passenger)\n",
        "\n",
        "# Display boarding pass details\n",
        "print(\"Passenger:\", boarding_pass.passenger.name)\n",
        "print(\"From:\", flight.departure_city)\n",
        "print(\"Flight:\", flight.flight_number)\n",
        "print(\"Gate:\", boarding_pass.gate)\n",
        "print(\"Date:\", flight.departure_date)\n",
        "print(\"Boarding till:\", boarding_pass.boarding_time)\n",
        "print(\"Electronic ticket:\", passenger.electronic_ticket)\n",
        "print(\"Time:\", flight.arrival_time)\n",
        "print(\"Seat:\", boarding_pass.seat.seat_number)\n",
        "print(\"To:\", flight.destination_city)\n",
        "print(\"Arrival time:\", flight.arrival_time)\n",
        "print(\"Terminal:\", flight.terminal)\n"
      ],
      "metadata": {
        "colab": {
          "base_uri": "https://localhost:8080/"
        },
        "id": "i0BQj8y0OOar",
        "outputId": "de8def5b-0b04-46f5-ce4e-7dc05d15d577"
      },
      "execution_count": 2,
      "outputs": [
        {
          "output_type": "stream",
          "name": "stdout",
          "text": [
            "Passenger: Maryam matar\n",
            "From: CHICAGO ORD\n",
            "Flight: NA4321\n",
            "Gate: 03\n",
            "Date: 06 DEC 20\n",
            "Boarding till: 11:40\n",
            "Electronic ticket: 629\n",
            "Time: 13:30\n",
            "Seat: 09A\n",
            "To: NEW YORK JFK\n",
            "Arrival time: 13:30\n",
            "Terminal: 2\n"
          ]
        }
      ]
    }
  ]
}